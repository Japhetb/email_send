{
 "cells": [
  {
   "cell_type": "code",
   "execution_count": null,
   "metadata": {},
   "outputs": [],
   "source": []
  },
  {
   "cell_type": "code",
   "execution_count": 4,
   "metadata": {},
   "outputs": [
    {
     "name": "stdout",
     "output_type": "stream",
     "text": [
      "https://gadgets.ndtv.com/entertainment/news/snyderverse-dead-justice-league-snyder-cut-ann-sarnoff-warner-bros-ceo-2397149\n",
      "https://gadgets.ndtv.com/mobiles/news/realme-c25-price-idr-2299000-launch-sale-date-march-27-specifications-2397144\n",
      "https://gadgets.ndtv.com/wearables/news/oneplus-watch-price-eur-150-specifications-design-leak-launch-date-march-23-2397128\n",
      "https://gadgets.ndtv.com/entertainment/news/ott-platforms-regulation-supreme-court-stays-proceedings-high-court-netflix-prime-video-hotstar-2397099\n",
      "https://gadgets.ndtv.com/smart-home/news/homepod-mini-sensor-temperature-humidity-actions-apple-2397087\n",
      "https://gadgets.ndtv.com/mobiles/news/oneplus-nord-n1-n10-successor-bureau-of-indian-standards-bis-listing-indian-launch-2397080\n",
      "https://gadgets.ndtv.com/mobiles/news/vivo-x60-pro-plus-price-in-india-rs-39990-49990-69990-leak-specifications-launch-date-march-25-2397049\n",
      "https://gadgets.ndtv.com/mobiles/news/mi-11-pro-ultra-launch-date-march-29-specifications-xiaomi-china-2397047\n",
      "https://gadgets.ndtv.com/entertainment/news/zatanna-dc-movie-emerald-fennell-writer-dc-films-warner-bros-bad-robot-2397044\n",
      "https://gadgets.ndtv.com/apps/news/clubhouse-android-app-release-timeline-development-townhall-meeting-paul-davison-black-rock-malware-2396988\n",
      "https://gadgets.ndtv.com/mobiles/news/oneplus-7-7t-series-stable-android-11-update-community-forum-report-february-security-patch-2396967\n",
      "https://gadgets.ndtv.com/entertainment/news/witcher-season-2-cast-graham-mctavish-liz-carr-adjoa-andoh-chris-fulton-news-netflix-2396965\n",
      "https://gadgets.ndtv.com/internet/news/joe-biden-us-antitrust-regulatory-body-lina-khan-named-federal-trade-commission-2396964\n",
      "https://gadgets.ndtv.com/games/news/nintendo-pokemon-go-niantic-pikmin-mobile-game-app-ar-gaming-2396946\n",
      "https://gadgets.ndtv.com/mobiles/news/oneplus-9-pro-9r-watch-series-launch-india-today-march-23-livestream-timings-expected-price-specifications-2396929\n",
      "https://gadgets.ndtv.com/entertainment/news/tencent-music-warner-wmg-record-label-china-multi-year-licensing-deal-2396919\n",
      "https://gadgets.ndtv.com/mobiles/news/oneplus-9-pro-9r-india-price-leak-rs-39999-49999-64999-series-launch-date-march-23-2396910\n",
      "https://gadgets.ndtv.com/social-networking/news/facebook-privacy-lawsuit-illegal-user-tracking-fails-bid-usd-15-billion-2396907\n",
      "https://gadgets.ndtv.com/mobiles/news/vivo-y72-5g-price-thb-9999-launch-specifications-features-sale-date-march-31-2396906\n",
      "https://gadgets.ndtv.com/entertainment/news/netflix-keanu-reeves-brzrkr-movie-comic-book-live-action-anime-spinoff-boom-studios-2396904\n",
      "['https://gadgets.ndtv.com/entertainment/news/snyderverse-dead-justice-league-snyder-cut-ann-sarnoff-warner-bros-ceo-2397149', 'https://gadgets.ndtv.com/mobiles/news/realme-c25-price-idr-2299000-launch-sale-date-march-27-specifications-2397144', 'https://gadgets.ndtv.com/wearables/news/oneplus-watch-price-eur-150-specifications-design-leak-launch-date-march-23-2397128', 'https://gadgets.ndtv.com/entertainment/news/ott-platforms-regulation-supreme-court-stays-proceedings-high-court-netflix-prime-video-hotstar-2397099', 'https://gadgets.ndtv.com/smart-home/news/homepod-mini-sensor-temperature-humidity-actions-apple-2397087', 'https://gadgets.ndtv.com/mobiles/news/oneplus-nord-n1-n10-successor-bureau-of-indian-standards-bis-listing-indian-launch-2397080', 'https://gadgets.ndtv.com/mobiles/news/vivo-x60-pro-plus-price-in-india-rs-39990-49990-69990-leak-specifications-launch-date-march-25-2397049', 'https://gadgets.ndtv.com/mobiles/news/mi-11-pro-ultra-launch-date-march-29-specifications-xiaomi-china-2397047', 'https://gadgets.ndtv.com/entertainment/news/zatanna-dc-movie-emerald-fennell-writer-dc-films-warner-bros-bad-robot-2397044', 'https://gadgets.ndtv.com/apps/news/clubhouse-android-app-release-timeline-development-townhall-meeting-paul-davison-black-rock-malware-2396988', 'https://gadgets.ndtv.com/mobiles/news/oneplus-7-7t-series-stable-android-11-update-community-forum-report-february-security-patch-2396967', 'https://gadgets.ndtv.com/entertainment/news/witcher-season-2-cast-graham-mctavish-liz-carr-adjoa-andoh-chris-fulton-news-netflix-2396965', 'https://gadgets.ndtv.com/internet/news/joe-biden-us-antitrust-regulatory-body-lina-khan-named-federal-trade-commission-2396964', 'https://gadgets.ndtv.com/games/news/nintendo-pokemon-go-niantic-pikmin-mobile-game-app-ar-gaming-2396946', 'https://gadgets.ndtv.com/mobiles/news/oneplus-9-pro-9r-watch-series-launch-india-today-march-23-livestream-timings-expected-price-specifications-2396929', 'https://gadgets.ndtv.com/entertainment/news/tencent-music-warner-wmg-record-label-china-multi-year-licensing-deal-2396919', 'https://gadgets.ndtv.com/mobiles/news/oneplus-9-pro-9r-india-price-leak-rs-39999-49999-64999-series-launch-date-march-23-2396910', 'https://gadgets.ndtv.com/social-networking/news/facebook-privacy-lawsuit-illegal-user-tracking-fails-bid-usd-15-billion-2396907', 'https://gadgets.ndtv.com/mobiles/news/vivo-y72-5g-price-thb-9999-launch-specifications-features-sale-date-march-31-2396906', 'https://gadgets.ndtv.com/entertainment/news/netflix-keanu-reeves-brzrkr-movie-comic-book-live-action-anime-spinoff-boom-studios-2396904']\n"
     ]
    }
   ],
   "source": [
    "from urllib.request import Request,urlopen \n",
    "from bs4 import BeautifulSoup\n",
    "import requests\n",
    "\n",
    "root1=\"https://www.google.com/\"\n",
    "link=\"https://gadgets.ndtv.com/news\"\n",
    "req =Request(link, headers={'User-Agent':'Mozilla/5.0'})\n",
    "webpage=urlopen(req).read()\n",
    "good=[]\n",
    "with requests.Session()as c:\n",
    "    soup=BeautifulSoup(webpage, 'html5lib')\n",
    "    #print(soup)\n",
    "    for item in soup.find_all(\"div\",attrs={'class':'caption_box'}):\n",
    "        n=(item.find('a',href=True)['href'])\n",
    "        print(n)\n",
    "        good.append(n)\n",
    "    print(good)\n",
    "   "
   ]
  },
  {
   "cell_type": "code",
   "execution_count": null,
   "metadata": {},
   "outputs": [],
   "source": []
  },
  {
   "cell_type": "code",
   "execution_count": 13,
   "metadata": {},
   "outputs": [
    {
     "name": "stdout",
     "output_type": "stream",
     "text": [
      "Message Sent\n"
     ]
    }
   ],
   "source": [
    "import smtplib\n",
    "def send_email(z):\n",
    "    server=smtplib.SMTP('smtp.gmail.com',587)\n",
    "    server.ehlo()\n",
    "    server.starttls()\n",
    "    server.ehlo( )\n",
    "    \n",
    "    \n",
    "    server.login(\"japhetbrandon@gmail.com\",\"liqsnauuusroonss\")\n",
    "    \n",
    "    \n",
    "    subject = \"heeeeeey\"\n",
    "    body = z\n",
    "\n",
    "    msg= f\"Subject: {subject}\\n\\n{body}\"\n",
    "    \n",
    "    server.sendmail(\n",
    "        'japhetbrandon@gmail.com',\n",
    "        'asgardians2021@gmail.com', \n",
    "        msg    \n",
    "     )\n",
    "    print(\"Message Sent\")\n",
    "    \n",
    "    server.quit()\n",
    "send_email(good)\n"
   ]
  },
  {
   "cell_type": "code",
   "execution_count": null,
   "metadata": {},
   "outputs": [],
   "source": []
  }
 ],
 "metadata": {
  "kernelspec": {
   "display_name": "Python 3",
   "language": "python",
   "name": "python3"
  },
  "language_info": {
   "codemirror_mode": {
    "name": "ipython",
    "version": 3
   },
   "file_extension": ".py",
   "mimetype": "text/x-python",
   "name": "python",
   "nbconvert_exporter": "python",
   "pygments_lexer": "ipython3",
   "version": "3.7.10"
  }
 },
 "nbformat": 4,
 "nbformat_minor": 4
}
